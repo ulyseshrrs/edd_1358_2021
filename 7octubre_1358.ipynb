{
  "nbformat": 4,
  "nbformat_minor": 0,
  "metadata": {
    "colab": {
      "name": "7octubre_1358.ipynb",
      "provenance": [],
      "authorship_tag": "ABX9TyOF27BjqO2x3BGZuzx+DvGj",
      "include_colab_link": true
    },
    "kernelspec": {
      "name": "python3",
      "display_name": "Python 3"
    }
  },
  "cells": [
    {
      "cell_type": "markdown",
      "metadata": {
        "id": "view-in-github",
        "colab_type": "text"
      },
      "source": [
        "<a href=\"https://colab.research.google.com/github/ulyseshrrs/edd_1358_2021/blob/master/7octubre_1358.ipynb\" target=\"_parent\"><img src=\"https://colab.research.google.com/assets/colab-badge.svg\" alt=\"Open In Colab\"/></a>"
      ]
    },
    {
      "cell_type": "code",
      "metadata": {
        "id": "vb-HFyCusv81",
        "outputId": "51063618-8a2e-4e54-8825-46e10e6993a8",
        "colab": {
          "base_uri": "https://localhost:8080/",
          "height": 135
        }
      },
      "source": [
        "# Concatenar listas\n",
        "colores = [\"rojo\",\"verde\",\"azul\",\"negro\"]\n",
        "flores =[\"margarita\",\"rosa\"]\n",
        "\n",
        "nueva = colores + flores\n",
        "print(nueva)\n",
        "print(colores)\n",
        "\n",
        "#unpacking de listas\n",
        "print(\"unpaking\")\n",
        "datos_personales = [\"Jose\",\"Perez\",\"Juarez\",22,1.67]\n",
        "nombre,paterno,materno,edad,est,fuma = datos_personales\n",
        "print(f\"Nombre:{nombre]\\n Edad: {edad} \")"
      ],
      "execution_count": 3,
      "outputs": [
        {
          "output_type": "error",
          "ename": "SyntaxError",
          "evalue": "ignored",
          "traceback": [
            "\u001b[0;36m  File \u001b[0;32m\"<ipython-input-3-64e5e5a71f8f>\"\u001b[0;36m, line \u001b[0;32m13\u001b[0m\n\u001b[0;31m    print(f\"Nombre:{nombre]\\n Edad: {edad} \")\u001b[0m\n\u001b[0m         ^\u001b[0m\n\u001b[0;31mSyntaxError\u001b[0m\u001b[0;31m:\u001b[0m f-string expression part cannot include a backslash\n"
          ]
        }
      ]
    },
    {
      "cell_type": "code",
      "metadata": {
        "id": "aDeFAZ1xuZ5A",
        "outputId": "c4321e66-06e5-4fc1-c690-83bd3a63de7d",
        "colab": {
          "base_uri": "https://localhost:8080/"
        }
      },
      "source": [
        "#Tuplas\n",
        "bd = ('127.0.0.1','root','toor','1345')\n",
        "print(f\"usuario de la base de datos es {bd[1]}\")\n",
        "#bd[1] = 'user1' no se puede\n",
        "print(bd[1:3])"
      ],
      "execution_count": 5,
      "outputs": [
        {
          "output_type": "stream",
          "text": [
            "usuario de la base de datos es root\n",
            "('root', 'toor')\n"
          ],
          "name": "stdout"
        }
      ]
    },
    {
      "cell_type": "code",
      "metadata": {
        "id": "Ja-7JeDVv19A",
        "outputId": "9cbf43a0-4517-4f15-e703-4bd3f79a087c",
        "colab": {
          "base_uri": "https://localhost:8080/"
        }
      },
      "source": [
        "#Diccionarios\n",
        "alumno = {'nombre':'Juan','edad':22,'carrera':'ICO'}\n",
        "print(alumno)\n",
        "print(alumno['edad'])\n",
        "alumno= {\n",
        "    'nombre':'Juan',\n",
        "    'edad':22,\n",
        "    'carrera':'ICO',\n",
        "    'dirección':{'calle':'Bosques de africa',\n",
        "                 'numero':33,\n",
        "                 'delegacion':'Nezahualcoyotl',\n",
        "                 'estado':15,\n",
        "                 'nombre_estado':'Estado de mexico'\n",
        "                 }\n",
        "    \n",
        "}\n",
        "print(alumno['dirección'])\n",
        "print(alumno['dirección']['delegacion'])\n",
        "print(alumno['dirección']['delegacion'][3:7].upper() )\n",
        "alumno['edad']=35\n",
        "print(alumno)\n",
        "alumno['promedio']=9.9\n",
        "print(alumno)\n",
        "alumno['dirección']['cp']= 17170\n",
        "print(alumno)\n",
        "alumno['materias']={'nombre':'CYP','calificación':10}\n",
        "print(alumno)\n",
        "\n",
        "cliente"
      ],
      "execution_count": 20,
      "outputs": [
        {
          "output_type": "stream",
          "text": [
            "{'nombre': 'Juan', 'edad': 22, 'carrera': 'ICO'}\n",
            "22\n",
            "{'calle': 'Bosques de africa', 'numero': 33, 'delegacion': 'Nezahualcoyotl', 'estado': 15, 'nombre_estado': 'Estado de mexico'}\n",
            "Nezahualcoyotl\n",
            "AHUA\n",
            "{'nombre': 'Juan', 'edad': 35, 'carrera': 'ICO', 'dirección': {'calle': 'Bosques de africa', 'numero': 33, 'delegacion': 'Nezahualcoyotl', 'estado': 15, 'nombre_estado': 'Estado de mexico'}}\n",
            "{'nombre': 'Juan', 'edad': 35, 'carrera': 'ICO', 'dirección': {'calle': 'Bosques de africa', 'numero': 33, 'delegacion': 'Nezahualcoyotl', 'estado': 15, 'nombre_estado': 'Estado de mexico'}, 'promedio': 9.9}\n",
            "{'nombre': 'Juan', 'edad': 35, 'carrera': 'ICO', 'dirección': {'calle': 'Bosques de africa', 'numero': 33, 'delegacion': 'Nezahualcoyotl', 'estado': 15, 'nombre_estado': 'Estado de mexico', 'cp': 17170}, 'promedio': 9.9}\n",
            "{'nombre': 'Juan', 'edad': 35, 'carrera': 'ICO', 'dirección': {'calle': 'Bosques de africa', 'numero': 33, 'delegacion': 'Nezahualcoyotl', 'estado': 15, 'nombre_estado': 'Estado de mexico', 'cp': 17170}, 'promedio': 9.9, 'materias': {'nombre': 'CYP', 'calificación': 10}}\n"
          ],
          "name": "stdout"
        }
      ]
    },
    {
      "cell_type": "code",
      "metadata": {
        "id": "UX3C-Uv-wT52"
      },
      "source": [
        ""
      ],
      "execution_count": null,
      "outputs": []
    }
  ]
}