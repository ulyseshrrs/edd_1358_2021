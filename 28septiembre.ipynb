{
  "nbformat": 4,
  "nbformat_minor": 0,
  "metadata": {
    "colab": {
      "name": "28septiembre.ipynb",
      "provenance": [],
      "collapsed_sections": [],
      "authorship_tag": "ABX9TyNHXekR8kJ5lSUB4L3+CBIV",
      "include_colab_link": true
    },
    "kernelspec": {
      "name": "python3",
      "display_name": "Python 3"
    }
  },
  "cells": [
    {
      "cell_type": "markdown",
      "metadata": {
        "id": "view-in-github",
        "colab_type": "text"
      },
      "source": [
        "<a href=\"https://colab.research.google.com/github/ulyseshrrs/edd_1358_2021/blob/master/28septiembre.ipynb\" target=\"_parent\"><img src=\"https://colab.research.google.com/assets/colab-badge.svg\" alt=\"Open In Colab\"/></a>"
      ]
    },
    {
      "cell_type": "code",
      "metadata": {
        "id": "fD7G3l4MY8Td",
        "outputId": "07c018f5-c34e-40ac-f6cd-e3a47b464f85",
        "colab": {
          "base_uri": "https://localhost:8080/",
          "height": 35
        }
      },
      "source": [
        "print (\"hola colab reserch\")\n",
        "nombre = \"EdD\"\n",
        "val = 10"
      ],
      "execution_count": null,
      "outputs": [
        {
          "output_type": "stream",
          "text": [
            "hola colab reserch\n"
          ],
          "name": "stdout"
        }
      ]
    },
    {
      "cell_type": "code",
      "metadata": {
        "id": "7cGN1bP8aK6E"
      },
      "source": [
        "print(nombre)\n",
        "print(val)"
      ],
      "execution_count": null,
      "outputs": []
    },
    {
      "cell_type": "code",
      "metadata": {
        "id": "fHLkI2M3bst8"
      },
      "source": [
        "#hola encabezado\n",
        "## encabexado nivel 2\n",
        "### Markdown\n",
        "\n",
        "* element 1\n",
        "* element 2\n",
        "* element 3\n",
        "\n",
        "1. fresa\n",
        "1. manzana 1. pera\n",
        "1. adsad\n",
        "\n",
        "[Ir a Google](https://www.google.com/)"
      ],
      "execution_count": null,
      "outputs": []
    },
    {
      "cell_type": "code",
      "metadata": {
        "id": "WGmIOfcbc7Cu"
      },
      "source": [
        "class Silla():\n",
        "  def _init_( self ):\n",
        "    self.material = \"\"\n",
        "    self.color = \"\"\n",
        "\n",
        "    def to_string( self ):\n",
        "      print( \"----------\")\n",
        "      print(f\" Madera: { self.material } \" )\n",
        "      print(f\"{self.color}--------\" )"
      ],
      "execution_count": null,
      "outputs": []
    },
    {
      "cell_type": "code",
      "metadata": {
        "id": "9gQr7KuaeNH_",
        "outputId": "c6cc3b2f-f910-4dcc-e7f7-6846e07131da",
        "colab": {
          "base_uri": "https://localhost:8080/",
          "height": 135
        }
      },
      "source": [
        "obj = Silla()\n",
        "obj.material = \"Madera\"\n",
        "obj.color = \"Rojo\"\n",
        "obj.to_string()"
      ],
      "execution_count": null,
      "outputs": [
        {
          "output_type": "error",
          "ename": "SyntaxError",
          "evalue": "ignored",
          "traceback": [
            "\u001b[0;36m  File \u001b[0;32m\"<ipython-input-46-9922ed769db6>\"\u001b[0;36m, line \u001b[0;32m4\u001b[0m\n\u001b[0;31m    obj.to_string{}\u001b[0m\n\u001b[0m                 ^\u001b[0m\n\u001b[0;31mSyntaxError\u001b[0m\u001b[0;31m:\u001b[0m invalid syntax\n"
          ]
        }
      ]
    }
  ]
}