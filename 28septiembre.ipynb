{
  "nbformat": 4,
  "nbformat_minor": 0,
  "metadata": {
    "colab": {
      "name": "28septiembre.ipynb",
      "provenance": [],
      "collapsed_sections": [],
      "authorship_tag": "ABX9TyMmc61KD9MnKN+jbJbIYkHR",
      "include_colab_link": true
    },
    "kernelspec": {
      "name": "python3",
      "display_name": "Python 3"
    }
  },
  "cells": [
    {
      "cell_type": "markdown",
      "metadata": {
        "id": "view-in-github",
        "colab_type": "text"
      },
      "source": [
        "<a href=\"https://colab.research.google.com/github/ulyseshrrs/edd_1358_2021/blob/master/28septiembre.ipynb\" target=\"_parent\"><img src=\"https://colab.research.google.com/assets/colab-badge.svg\" alt=\"Open In Colab\"/></a>"
      ]
    },
    {
      "cell_type": "code",
      "metadata": {
        "id": "fD7G3l4MY8Td",
        "outputId": "dd1b5e81-1270-4728-d789-6e4f3d59454b",
        "colab": {
          "base_uri": "https://localhost:8080/",
          "height": 35
        }
      },
      "source": [
        "\n",
        "print( \"Hola colab research\")\n",
        "nombre = \"EdD\"\n",
        "val= 10"
      ],
      "execution_count": 1,
      "outputs": [
        {
          "output_type": "stream",
          "text": [
            "Hola colab research\n"
          ],
          "name": "stdout"
        }
      ]
    },
    {
      "cell_type": "markdown",
      "metadata": {
        "id": "4ACZjbYArGZF"
      },
      "source": [
        ""
      ]
    },
    {
      "cell_type": "code",
      "metadata": {
        "id": "7cGN1bP8aK6E"
      },
      "source": [
        "print(nombre)\n",
        "print(val)"
      ],
      "execution_count": null,
      "outputs": []
    },
    {
      "cell_type": "code",
      "metadata": {
        "id": "fHLkI2M3bst8"
      },
      "source": [
        "###Hola esto es un encabezado\n",
        "##Encabezado nivel 2\n",
        "#Sintaxis Markdown\n",
        "elem 1\n",
        "elem 2\n",
        "elem 3\n",
        "fresa\n",
        "manzana\n",
        "pera\n",
        "adsad\n",
        "esto es un texto largo y quiero poner negritas y también quiero poner italica. Ir a google"
      ],
      "execution_count": null,
      "outputs": []
    },
    {
      "cell_type": "code",
      "metadata": {
        "id": "WGmIOfcbc7Cu"
      },
      "source": [
        "class Silla():\n",
        "  def __init__( self ):\n",
        "    self.material = \"\"\n",
        "    self.color = \"\"\n",
        "  \n",
        "  def to_string( self ):\n",
        "    print( \" -------- \")\n",
        "    print( f\" Material: { self.material }  \" )\n",
        "    print( f\" {self.color} ------ \" )"
      ],
      "execution_count": null,
      "outputs": []
    },
    {
      "cell_type": "code",
      "metadata": {
        "id": "9gQr7KuaeNH_"
      },
      "source": [
        "obj = Silla()\n",
        "obj.material = \"Madera\"\n",
        "obj.color = \"Rojo\"\n",
        "obj.to_string()"
      ],
      "execution_count": null,
      "outputs": []
    }
  ]
}