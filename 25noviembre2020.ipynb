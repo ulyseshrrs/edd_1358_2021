{
  "nbformat": 4,
  "nbformat_minor": 0,
  "metadata": {
    "colab": {
      "name": "25noviembre2020.ipynb",
      "provenance": [],
      "authorship_tag": "ABX9TyNMPHO6nhl3ReH4mLZgcQTV",
      "include_colab_link": true
    },
    "kernelspec": {
      "name": "python3",
      "display_name": "Python 3"
    }
  },
  "cells": [
    {
      "cell_type": "markdown",
      "metadata": {
        "id": "view-in-github",
        "colab_type": "text"
      },
      "source": [
        "<a href=\"https://colab.research.google.com/github/ulyseshrrs/edd_1358_2021/blob/master/25noviembre2020.ipynb\" target=\"_parent\"><img src=\"https://colab.research.google.com/assets/colab-badge.svg\" alt=\"Open In Colab\"/></a>"
      ]
    },
    {
      "cell_type": "code",
      "metadata": {
        "id": "-IuC8ck5MDFB"
      },
      "source": [
        "class NodoDoble:\n",
        "    def__init( self, value , previo = None , siguiente = None):\n",
        "       self.data = value\n",
        "       self.prev = previo\n",
        "       self.next = siguiente\n",
        "\n",
        "class DobleLinkedList:\n",
        "      def__init__( self ):\n",
        "      self.head = None\n",
        "      self.tail = None\n",
        "      self.size = 0\n",
        "\n",
        "  def get_size( self ):\n",
        "    return self.__size\n",
        "\n",
        "  def is_empty( self ):\n",
        "    return self.__size == 0\n",
        "\n",
        "  def append( self , value ):\n",
        "      if self.is_empty():\n",
        "          nuevo = NodoDouble( value )\n",
        "          self.__head = nuevo\n",
        "          self.__tail = nuevo\n",
        "      else :\n",
        "          nuevo = NodoDoble( value, self.__tail , None )\n",
        "          self.__tail.next = nuevo\n",
        "          self.__tail = nuevo\n",
        "      \n",
        "      self._size +=1\n",
        "\n",
        "   def transversal (self):\n",
        "       cerr_node = self.__head\n",
        "       while curr_node != None:\n",
        "           print(\"<---\", curr_node.data, \"--->\", end=\"\")\n",
        "           curr_node = curr_node.next \n",
        "    def remove_from_head( self, value ):\n",
        "        remove      "
      ],
      "execution_count": null,
      "outputs": []
    },
    {
      "cell_type": "code",
      "metadata": {
        "id": "LczcJs20RzDO"
      },
      "source": [
        "ldl = DobleLinkedList()\n",
        "print(ldl.get_size())\n",
        "ldl.append( 10 )\n",
        "print (ldl.get_size())\n",
        "ldl.transversal()\n",
        "ldl.transver()\n",
        "ldl.append(20)\n",
        "ldl.append(30)\n",
        "ldl.transversal(20)"
      ],
      "execution_count": null,
      "outputs": []
    },
    {
      "cell_type": "code",
      "metadata": {
        "id": "KagrkDn0Ry2K"
      },
      "source": [
        ""
      ],
      "execution_count": null,
      "outputs": []
    }
  ]
}