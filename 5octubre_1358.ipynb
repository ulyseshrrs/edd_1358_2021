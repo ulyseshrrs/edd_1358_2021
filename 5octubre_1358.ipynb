{
  "nbformat": 4,
  "nbformat_minor": 0,
  "metadata": {
    "colab": {
      "name": "5octubre_1358.ipynb",
      "provenance": [],
      "authorship_tag": "ABX9TyPk5gJkZp12lLUZyg6idszA",
      "include_colab_link": true
    },
    "kernelspec": {
      "name": "python3",
      "display_name": "Python 3"
    }
  },
  "cells": [
    {
      "cell_type": "markdown",
      "metadata": {
        "id": "view-in-github",
        "colab_type": "text"
      },
      "source": [
        "<a href=\"https://colab.research.google.com/github/ulyseshrrs/edd_1358_2021/blob/master/5octubre_1358.ipynb\" target=\"_parent\"><img src=\"https://colab.research.google.com/assets/colab-badge.svg\" alt=\"Open In Colab\"/></a>"
      ]
    },
    {
      "cell_type": "code",
      "metadata": {
        "id": "6tHJ_ljeTXn5",
        "outputId": "ab2de43e-ff12-42f2-c088-e6f2e8a9d23d",
        "colab": {
          "base_uri": "https://localhost:8080/",
          "height": 90
        }
      },
      "source": [
        "precio=12.5\n",
        "cantidad=2\n",
        "existencia = True\n",
        "\n",
        "#precio de los chetos es $ 12.5 y quiero 2, hay?: True\n",
        "\n",
        "print(\"precio de los chetosm es $\",precio,\"y quiero\", cantidad,\"hay?:\",existencia)\n",
        "\n",
        "#format() de la clase str\n",
        "\n",
        "print(\"precio de los chetos es{0} y quiero {1} , hay?: {2}\".format(precio,cantidad,existencia))\n",
        "print(\"precio de los chetos es{2} y quiero {1} , hay?: {0}\".format(precio,cantidad,existencia))\n",
        "\n",
        "#operador f\"\"\n",
        "print(f\"precio de los chetos es {precio}y quiero {cantidad}, hay?: {existencia}\")\n",
        "\n"
      ],
      "execution_count": 1,
      "outputs": [
        {
          "output_type": "stream",
          "text": [
            "precio de los chetosm es $ 12.5 y quiero 2 hay?: True\n",
            "precio de los chetos es12.5 y quiero 2 , hay?: True\n",
            "precio de los chetos esTrue y quiero 2 , hay?: 12.5\n",
            "precio de los chetos es 12.5y quiero 2, hay?: True\n"
          ],
          "name": "stdout"
        }
      ]
    },
    {
      "cell_type": "markdown",
      "metadata": {
        "id": "V6tg-9M_YUT7"
      },
      "source": [
        "#Listas\n",
        "declaracion[]\n",
        "selector[]\n",
        "mutable\n",
        "#tuplas\n",
        "declaración ()\n"
      ]
    },
    {
      "cell_type": "code",
      "metadata": {
        "id": "FuM925eWZbHw",
        "outputId": "098979e1-c880-44c3-c35d-f149dbe333a0",
        "colab": {
          "base_uri": "https://localhost:8080/",
          "height": 476
        }
      },
      "source": [
        "#Listas\n",
        "materias=[\"CYP\",\"DAA\",\"EDD\",\"IS\",\"POO\"]\n",
        "print(materias)\n",
        "print(materias[2])\n",
        "print(materias[4])\n",
        "print(materias[-1])\n",
        "print(materias[::-1])\n",
        "#crear una lista a partir de un string\n",
        "fecha=\"05/octubre/2020\"\n",
        "lista_fecha = fecha.split(\"/\")\n",
        "print(lista_fecha)\n",
        "\n",
        "#crear un string a partir de una lista\n",
        "lista_hora = [\"15\",\"22\",\"45\"]\n",
        "hora = \":\".join(lista_fecha)\n",
        "print(hora)\n",
        "print(\"_________\")\n",
        "print(materias)\n",
        "print(lista_fecha)\n",
        "print(lista_hora)\n",
        "\n",
        "materias [0] = \"Computadoras y Programación\"\n",
        "print(materias)\n",
        "\n",
        "#agregar\n",
        "materias.append(\"Calidad\")\n",
        "print(materias)\n",
        "materias.insert(2,\"Emprendimiento\")\n",
        "print(materias)\n",
        "materia = materias.pop()\n",
        "print(materia)\n",
        "print(materias)\n",
        "materia = materias.pop(1)\n",
        "print(materia)\n",
        "print(materias)\n",
        "#vaciar lista\n",
        "materias.clear()\n",
        "print(materias)\n",
        "\n",
        "#Slicing [::]\n",
        "print(\"Slicing\")\n",
        "numeros =[0,1,2,3,4,5,6,7,8,9,10]\n",
        "print(numeros)\n",
        "print(numeros[4:9:1])\n",
        "print(numeros[4::1])\n",
        "print(numeros[4:9])\n",
        "\n",
        "#sustituir un segmento con Slicing[0,1,2,3,-2,9,10]\n",
        "numeros[4:9:1]= [-2,-3, \"a\"]\n",
        "print(numeros)\n"
      ],
      "execution_count": 26,
      "outputs": [
        {
          "output_type": "stream",
          "text": [
            "['CYP', 'DAA', 'EDD', 'IS', 'POO']\n",
            "EDD\n",
            "POO\n",
            "POO\n",
            "['POO', 'IS', 'EDD', 'DAA', 'CYP']\n",
            "['05', 'octubre', '2020']\n",
            "05:octubre:2020\n",
            "_________\n",
            "['CYP', 'DAA', 'EDD', 'IS', 'POO']\n",
            "['05', 'octubre', '2020']\n",
            "['15', '22', '45']\n",
            "['Computadoras y Programación', 'DAA', 'EDD', 'IS', 'POO']\n",
            "['Computadoras y Programación', 'DAA', 'EDD', 'IS', 'POO', 'Calidad']\n",
            "['Computadoras y Programación', 'DAA', 'Emprendimiento', 'EDD', 'IS', 'POO', 'Calidad']\n",
            "Calidad\n",
            "['Computadoras y Programación', 'DAA', 'Emprendimiento', 'EDD', 'IS', 'POO']\n",
            "DAA\n",
            "['Computadoras y Programación', 'Emprendimiento', 'EDD', 'IS', 'POO']\n",
            "[]\n",
            "Slicing\n",
            "[0, 1, 2, 3, 4, 5, 6, 7, 8, 9, 10]\n",
            "[4, 5, 6, 7, 8]\n",
            "[4, 5, 6, 7, 8, 9, 10]\n",
            "[4, 5, 6, 7, 8]\n",
            "[0, 1, 2, 3, -2, -3, 'a', 9, 10]\n"
          ],
          "name": "stdout"
        }
      ]
    },
    {
      "cell_type": "code",
      "metadata": {
        "id": "02v_8ydVe9F0",
        "outputId": "8ef54317-beff-4610-df6e-e46a0425463b",
        "colab": {
          "base_uri": "https://localhost:8080/",
          "height": 1000
        }
      },
      "source": [
        "autos = [\"Mazda\",\"Honda\", \"Akura\",\"Ford\",\"VW\"]\n",
        "telefonos = [\"Iphone\",\"Huawei mate 30\",\"Xiaomi s10\",\"Alcatelt1000\"]\n",
        "sistema operativo =[ \"Windows\",\"Linux\",\"Android\",\"IOS\",\"MacOs\" ]\n",
        "\n",
        "lista_2d [autos,telefonos,sistema_operativos]\n",
        "print(lista_2d)\n",
        "print(lista_2d[1][1])\n",
        "\n"
      ],
      "execution_count": 15,
      "outputs": [
        {
          "output_type": "stream",
          "text": [
            "Help on class list in module builtins:\n",
            "\n",
            "class list(object)\n",
            " |  list() -> new empty list\n",
            " |  list(iterable) -> new list initialized from iterable's items\n",
            " |  \n",
            " |  Methods defined here:\n",
            " |  \n",
            " |  __add__(self, value, /)\n",
            " |      Return self+value.\n",
            " |  \n",
            " |  __contains__(self, key, /)\n",
            " |      Return key in self.\n",
            " |  \n",
            " |  __delitem__(self, key, /)\n",
            " |      Delete self[key].\n",
            " |  \n",
            " |  __eq__(self, value, /)\n",
            " |      Return self==value.\n",
            " |  \n",
            " |  __ge__(self, value, /)\n",
            " |      Return self>=value.\n",
            " |  \n",
            " |  __getattribute__(self, name, /)\n",
            " |      Return getattr(self, name).\n",
            " |  \n",
            " |  __getitem__(...)\n",
            " |      x.__getitem__(y) <==> x[y]\n",
            " |  \n",
            " |  __gt__(self, value, /)\n",
            " |      Return self>value.\n",
            " |  \n",
            " |  __iadd__(self, value, /)\n",
            " |      Implement self+=value.\n",
            " |  \n",
            " |  __imul__(self, value, /)\n",
            " |      Implement self*=value.\n",
            " |  \n",
            " |  __init__(self, /, *args, **kwargs)\n",
            " |      Initialize self.  See help(type(self)) for accurate signature.\n",
            " |  \n",
            " |  __iter__(self, /)\n",
            " |      Implement iter(self).\n",
            " |  \n",
            " |  __le__(self, value, /)\n",
            " |      Return self<=value.\n",
            " |  \n",
            " |  __len__(self, /)\n",
            " |      Return len(self).\n",
            " |  \n",
            " |  __lt__(self, value, /)\n",
            " |      Return self<value.\n",
            " |  \n",
            " |  __mul__(self, value, /)\n",
            " |      Return self*value.\n",
            " |  \n",
            " |  __ne__(self, value, /)\n",
            " |      Return self!=value.\n",
            " |  \n",
            " |  __new__(*args, **kwargs) from builtins.type\n",
            " |      Create and return a new object.  See help(type) for accurate signature.\n",
            " |  \n",
            " |  __repr__(self, /)\n",
            " |      Return repr(self).\n",
            " |  \n",
            " |  __reversed__(...)\n",
            " |      L.__reversed__() -- return a reverse iterator over the list\n",
            " |  \n",
            " |  __rmul__(self, value, /)\n",
            " |      Return value*self.\n",
            " |  \n",
            " |  __setitem__(self, key, value, /)\n",
            " |      Set self[key] to value.\n",
            " |  \n",
            " |  __sizeof__(...)\n",
            " |      L.__sizeof__() -- size of L in memory, in bytes\n",
            " |  \n",
            " |  append(...)\n",
            " |      L.append(object) -> None -- append object to end\n",
            " |  \n",
            " |  clear(...)\n",
            " |      L.clear() -> None -- remove all items from L\n",
            " |  \n",
            " |  copy(...)\n",
            " |      L.copy() -> list -- a shallow copy of L\n",
            " |  \n",
            " |  count(...)\n",
            " |      L.count(value) -> integer -- return number of occurrences of value\n",
            " |  \n",
            " |  extend(...)\n",
            " |      L.extend(iterable) -> None -- extend list by appending elements from the iterable\n",
            " |  \n",
            " |  index(...)\n",
            " |      L.index(value, [start, [stop]]) -> integer -- return first index of value.\n",
            " |      Raises ValueError if the value is not present.\n",
            " |  \n",
            " |  insert(...)\n",
            " |      L.insert(index, object) -- insert object before index\n",
            " |  \n",
            " |  pop(...)\n",
            " |      L.pop([index]) -> item -- remove and return item at index (default last).\n",
            " |      Raises IndexError if list is empty or index is out of range.\n",
            " |  \n",
            " |  remove(...)\n",
            " |      L.remove(value) -> None -- remove first occurrence of value.\n",
            " |      Raises ValueError if the value is not present.\n",
            " |  \n",
            " |  reverse(...)\n",
            " |      L.reverse() -- reverse *IN PLACE*\n",
            " |  \n",
            " |  sort(...)\n",
            " |      L.sort(key=None, reverse=False) -> None -- stable sort *IN PLACE*\n",
            " |  \n",
            " |  ----------------------------------------------------------------------\n",
            " |  Data and other attributes defined here:\n",
            " |  \n",
            " |  __hash__ = None\n",
            "\n"
          ],
          "name": "stdout"
        }
      ]
    }
  ]
}