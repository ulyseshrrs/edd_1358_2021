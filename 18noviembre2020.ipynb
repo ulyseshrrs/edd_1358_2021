{
  "nbformat": 4,
  "nbformat_minor": 0,
  "metadata": {
    "colab": {
      "name": "18noviembre2020.ipynb",
      "provenance": [],
      "authorship_tag": "ABX9TyOp/eMzLKOxktIvT9DZ6mmh",
      "include_colab_link": true
    },
    "kernelspec": {
      "name": "python3",
      "display_name": "Python 3"
    }
  },
  "cells": [
    {
      "cell_type": "markdown",
      "metadata": {
        "id": "view-in-github",
        "colab_type": "text"
      },
      "source": [
        "<a href=\"https://colab.research.google.com/github/ulyseshrrs/edd_1358_2021/blob/master/18noviembre2020.ipynb\" target=\"_parent\"><img src=\"https://colab.research.google.com/assets/colab-badge.svg\" alt=\"Open In Colab\"/></a>"
      ]
    },
    {
      "cell_type": "code",
      "metadata": {
        "id": "7H7k-5EzIP1p"
      },
      "source": [
        "class Nodo:\n",
        "  def __init__( self , dato):\n",
        "    self.__dato = dato \n",
        "    self.__siguiente = None \n",
        "\n",
        "  def get_dato( self ):\n",
        "    return self.__dato\n",
        "\n",
        "  def set_dato( self , d ):\n",
        "    self.__dato = d\n",
        "\n",
        "  def get_siguiente( self ):\n",
        "    return self.__siguiente\n",
        "\n",
        "  def set_siguiente ( self , d ):\n",
        "    self.__siguiente = d\n",
        "\n",
        "  #def to_String ( self ):\n",
        "    #return  \"|\" + str(self.__dato)+ \"|\" + str(self.__siguiente)+\"|-->\" \n",
        "  def show( self ):\n",
        "    curr_node = self # Head\n",
        "    print(\" Inicio de la estructura ligada:\")\n",
        "    print(\"|\" + str(curr_node.get_dato()) + \"| -->\" , end =\"\" )\n",
        "    while ( curr_node.get_siguiente() != None ):\n",
        "      curr_node = curr_node.get_siguiente()\n",
        "      print(\"|\" + str(curr_node.get_dato() ) + \"| -->\" , end =\"\" )\n",
        "    print(\"\\nFin\")\n",
        "        \n",
        "\n",
        "# Ejemplo 1\n",
        "a = Nodo( 10 )\n",
        "a.show()\n",
        "\n",
        "# ejemplo 2\n",
        "a.set_siguiente( Nodo(20) )\n",
        "a.show()    \n",
        "\n",
        "# ejemplo 1 \n",
        "#a = Nodo (10)\n",
        "#print(a.to_String())\n",
        "\n",
        "#ejemplo 2\n",
        "#a. set_siguiente(20)\n",
        "#print(a.to_String())\n",
        "  \n",
        "# ejemplo 3\n",
        "a.get_siguiente().set_siguiente(Nodo(30))\n",
        "a.show() \n",
        "\n",
        "# ejemplo 4\n",
        "a.get_siguiente().get_siguiente().set_siguiente(Nodo(40))\n",
        "a.show()    \n",
        "\n",
        "# ejemplo 5\n",
        "a.get_siguiente().get_siguiente().get_siguiente().set_siguiente(Nodo(50))\n",
        "a.show() \n",
        "\n",
        "# Ejemplo 6 cambio de valor de nodo 1\n",
        "a.set_dato(12)\n",
        "a.show()\n",
        "\n",
        "# Ejemplo 7 cambio de valor de nodo 4\n",
        "a.get_siguiente().get_siguiente().get_siguiente().set_dato(45)\n",
        "a.show()\n",
        "\n",
        "# ejempplo 8 \n",
        "a.get_siguiente().get_siguiente().get_siguiente().get_siguiente().set_dato(60)\n",
        "a.show()\n",
        "\n",
        "# ejemplo 9\n",
        "a.get_siguiente().set_dato(25)\n",
        "a.show()"
      ],
      "execution_count": null,
      "outputs": []
    },
    {
      "cell_type": "code",
      "metadata": {
        "id": "vP5QQv6IIW5K"
      },
      "source": [
        "# Con atributos desencapsulados \n",
        "class Nodo:\n",
        "  def __init__( self , dato):\n",
        "    self.dato = dato \n",
        "    self.siguiente = None \n",
        "\n",
        "#ejemplo 1 \n",
        "a = Nodo(10)\n",
        "print(a.dato)\n",
        "print(a.siguiente)\n",
        "\n",
        "#ejemplo 2\n",
        "a.siguiente = Nodo(20)\n",
        "\n",
        "#Ejemplo 3\n",
        "a.siguiente.siguiente=Nodo(30)\n",
        "\n",
        "#Ejemplo 4\n",
        "a.siguiente.siguiente.siguiente= Nodo(40)\n",
        "\n",
        "#Ejemplo 5\n",
        "a.siguiente.siguiente.siguiente.siguiente=Nodo (50)\n",
        "\n",
        "# recorrido trasnversal\n",
        "curr_node = a \n",
        "print(curr_node.dato, \"-->\" , end=\"\")\n",
        "while (curr_node.siguiente != None):\n",
        "  curr_node = curr_node.siguiente\n",
        "  print(curr_node.dato, \"-->\" , end=\"\")\n",
        "print(\"\")\n",
        "\n",
        "\n",
        "# ejemplo 6 Para cambiar el  valor de un nodo\n",
        "a.siguiente.siguiente.siguiente.dato=45\n",
        "\n",
        "# ejemplo7\n",
        "a.siguiente.siguiente.dato=35\n",
        "\n",
        "# ejemplo 8 Eliminar un nodo\n",
        "a.siguiente.siguiente= a.siguiente.siguiente.siguiente\n",
        "\n",
        "# ejemplo 9\n",
        "a.siguiente = a.siguiente.siguiente.siguiente.siguiente \n",
        "curr_node = a \n",
        "print(curr_node.dato, \"-->\" , end=\"\")\n",
        "while (curr_node.siguiente != None):\n",
        "  curr_node = curr_node.siguiente\n",
        "  print(curr_node.dato, \"-->\" , end=\"\")\n",
        "print(\"\")"
      ],
      "execution_count": null,
      "outputs": []
    },
    {
      "cell_type": "markdown",
      "metadata": {
        "id": "2C-wZKCsJOQ9"
      },
      "source": [
        "#Codigo del 18 de nov"
      ]
    },
    {
      "cell_type": "code",
      "metadata": {
        "id": "2aFTtK0eJZ7W"
      },
      "source": [
        "#Codigo del 18 de nov\n",
        "class Nodo:\n",
        "  def __init__( self , dato , siguente=None ):\n",
        "    self.dato = dato \n",
        "    self.siguiente = siguiente\n",
        "\n",
        "head = Nodo(10 , Nodo( 20 ,Nodo(30, Nodo(40 , Nodo(50)) ) ))\n",
        "\n",
        "# recorrido trasnversal\n",
        "curr_node = head \n",
        "print(curr_node.dato, \"-->\" , end=\"\")\n",
        "while (curr_node.siguiente != None):\n",
        "  curr_node = curr_node.siguiente\n",
        "  print(curr_node.dato, \"-->\" , end=\"\")\n",
        "print(\"\")\n",
        "\n",
        "#insertar el nodo 35 despues del 30\n",
        "anterior = head.siguiente.siguiente\n",
        "print(anterior.dato)\n",
        "nuevo = Nodo(35)\n",
        "nuevo.siguiente = anterior.siguiente\n"
      ],
      "execution_count": null,
      "outputs": []
    },
    {
      "cell_type": "code",
      "metadata": {
        "id": "26q1LcqDVeXj"
      },
      "source": [
        "class Nodo:\n",
        "  def __init__( self , dato , siguente=None ):\n",
        "    self.dato = dato \n",
        "    self.siguiente = siguiente\n",
        "\n",
        "class LinkedList:\n",
        "  def __init__( self ):\n",
        "      self._head = None\n",
        "\n",
        "  def is_emty( self ):\n",
        "      return self.__head == None        "
      ],
      "execution_count": null,
      "outputs": []
    }
  ]
}