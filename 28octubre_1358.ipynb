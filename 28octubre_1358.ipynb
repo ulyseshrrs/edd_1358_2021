{
  "nbformat": 4,
  "nbformat_minor": 0,
  "metadata": {
    "colab": {
      "name": "28octubre_1358.ipynb",
      "provenance": [],
      "authorship_tag": "ABX9TyMn/T3NKNG6C+u86GUfZ+48",
      "include_colab_link": true
    },
    "kernelspec": {
      "name": "python3",
      "display_name": "Python 3"
    }
  },
  "cells": [
    {
      "cell_type": "markdown",
      "metadata": {
        "id": "view-in-github",
        "colab_type": "text"
      },
      "source": [
        "<a href=\"https://colab.research.google.com/github/ulyseshrrs/edd_1358_2021/blob/master/28octubre_1358.ipynb\" target=\"_parent\"><img src=\"https://colab.research.google.com/assets/colab-badge.svg\" alt=\"Open In Colab\"/></a>"
      ]
    },
    {
      "cell_type": "code",
      "metadata": {
        "id": "6v1XOXmZqJis",
        "outputId": "10d02c4c-e230-4993-8687-76f5bfc4c25c",
        "colab": {
          "base_uri": "https://localhost:8080/"
        }
      },
      "source": [
        "\"\"\"\n",
        "Array\n",
        "\"\"\"\n",
        "class Array:\n",
        "    def __init__( self ,  tam ):\n",
        "        self.__datos = [ 0 for x in range(tam)]\n",
        "\n",
        "    def get_item( self ,index ):\n",
        "        dato = 0\n",
        "        if index >= 0 and index < len(self.__datos):\n",
        "          dato = self.__datos[index]\n",
        "        else:\n",
        "          print(\"Error en el indice\")\n",
        "        return dato  \n",
        "\n",
        "    def set_item (self , dato , index):\n",
        "      if index >=0 and index < len(self.__datos):\n",
        "         self.__datos[index] = dato\n",
        "      else:\n",
        "           print(\"Error en el indice\")\n",
        "\n",
        "    def get_length(self):\n",
        "      '''obtener el tamaño del arreglo'''\n",
        "      return len(self.__datos)\n",
        "\n",
        "    def clear ( self, dato ):\n",
        "      self.__datos = [dato for x in range(self.__tam)]\n",
        "\n",
        "    def getIterator(self, arreglo):\n",
        "        return_getIterator\n",
        "\n",
        "class _getIterator:\n",
        "    def __init__( self , arreglo):\n",
        "        self.__arreglo = arreglo\n",
        "        self.__indice_actual = 0\n",
        "\n",
        "    def __iter__( self ):\n",
        "      return self\n",
        "\n",
        "    def __next__( self ):\n",
        "      if self.__indice_actual < len(self.__arreglo):\n",
        "          dato = self._arreglo[self.__indice_actual]\n",
        "          self.__indice_actual +=1\n",
        "          return dato\n",
        "      else:\n",
        "          raise StopIteration  \n",
        "\n",
        "mi_arreglo = Array(10)              \n",
        "print(mi_arreglo.get_item(20))\n",
        "mi_arreglo.set_item( 2345, 3)\n",
        "print(mi_arreglo.get_item(3))\n",
        "\n",
        "\n",
        "\n",
        "               \n",
        "\n",
        "         \n",
        "        "
      ],
      "execution_count": 16,
      "outputs": [
        {
          "output_type": "stream",
          "text": [
            "Error en el indice\n",
            "0\n",
            "2345\n"
          ],
          "name": "stdout"
        }
      ]
    }
  ]
}