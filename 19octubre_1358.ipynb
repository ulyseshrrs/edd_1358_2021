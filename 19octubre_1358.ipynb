{
  "nbformat": 4,
  "nbformat_minor": 0,
  "metadata": {
    "colab": {
      "name": "19octubre_1358.ipynb",
      "provenance": [],
      "authorship_tag": "ABX9TyPkbSZXgEdx+R4QDnvUhmEf",
      "include_colab_link": true
    },
    "kernelspec": {
      "name": "python3",
      "display_name": "Python 3"
    }
  },
  "cells": [
    {
      "cell_type": "markdown",
      "metadata": {
        "id": "view-in-github",
        "colab_type": "text"
      },
      "source": [
        "<a href=\"https://colab.research.google.com/github/ulyseshrrs/edd_1358_2021/blob/master/19octubre_1358.ipynb\" target=\"_parent\"><img src=\"https://colab.research.google.com/assets/colab-badge.svg\" alt=\"Open In Colab\"/></a>"
      ]
    },
    {
      "cell_type": "code",
      "metadata": {
        "id": "qYQAjLihbotA",
        "outputId": "2bb8e37e-87af-40eb-96c5-70dc7330e63b",
        "colab": {
          "base_uri": "https://localhost:8080/",
          "height": 72
        }
      },
      "source": [
        "#read()\n",
        "archivo = open('frutas.txt','rt')\n",
        "\n",
        "data = archivo.read()\n",
        "print(data.upper())\n",
        "\n",
        "archivo.close()\n"
      ],
      "execution_count": 8,
      "outputs": [
        {
          "output_type": "stream",
          "text": [
            "LIMON, AGUACATE, FRESA, MANZANA, \n",
            "CIRUELA, CAPULIN, NARANJA,\n",
            "PERA, KIWI\n"
          ],
          "name": "stdout"
        }
      ]
    },
    {
      "cell_type": "code",
      "metadata": {
        "id": "8nZFBqgXd_3m",
        "outputId": "d23d3680-b70e-4432-9d1c-31b8309b02cb",
        "colab": {
          "base_uri": "https://localhost:8080/",
          "height": 109
        }
      },
      "source": [
        "#readline()\n",
        "archivo = open('frutas.txt','rt')\n",
        "print(archivo.readline()) #solo leé una linea\n",
        "print(archivo.readline())\n",
        "print(archivo.readline())\n",
        "archivo.close()"
      ],
      "execution_count": 10,
      "outputs": [
        {
          "output_type": "stream",
          "text": [
            "LIMON, AGUACATE, FRESA, MANZANA, \n",
            "\n",
            "CIRUELA, CAPULIN, NARANJA,\n",
            "\n",
            "PERA, KIWI\n"
          ],
          "name": "stdout"
        }
      ]
    },
    {
      "cell_type": "code",
      "metadata": {
        "id": "IzIH6qYccjEX",
        "outputId": "c3fc8f8d-cb1d-482d-dcf2-468f0bb15780",
        "colab": {
          "base_uri": "https://localhost:8080/",
          "height": 109
        }
      },
      "source": [
        "#readline()\n",
        "archivo = open('frutas.txt','rt')\n",
        "data = archivo.readline()\n",
        "while data !=\"\":\n",
        "  print (data)\n",
        "  data = archivo.readline()  \n",
        "archivo.close()\n"
      ],
      "execution_count": 12,
      "outputs": [
        {
          "output_type": "stream",
          "text": [
            "LIMON, AGUACATE, FRESA, MANZANA, \n",
            "\n",
            "CIRUELA, CAPULIN, NARANJA,\n",
            "\n",
            "PERA, KIWI\n"
          ],
          "name": "stdout"
        }
      ]
    },
    {
      "cell_type": "code",
      "metadata": {
        "id": "NG2oacy9gFgY",
        "outputId": "61a90b1c-0e67-4898-f048-c06aad76ac3c",
        "colab": {
          "base_uri": "https://localhost:8080/",
          "height": 54
        }
      },
      "source": [
        "# readlines()\n",
        "\n",
        "archivo = open ('frutas.txt','rt')\n",
        "\n",
        "data = archivo.readlines() #data es una lista\n",
        "print (data)\n",
        "\n",
        "frutas=[]\n",
        "for linea in data:\n",
        "    frutas.append(linea.strip())\n",
        "\n",
        "frutas_final = []\n",
        "for elem in frutas:\n",
        "    for fruta in elem.split(','):\n",
        "        frutas_final.append(fruta.strip())\n",
        "\n",
        "print(frutas_final)\n",
        "archivo.close()"
      ],
      "execution_count": 15,
      "outputs": [
        {
          "output_type": "stream",
          "text": [
            "['LIMON, AGUACATE, FRESA, MANZANA, \\n', 'CIRUELA, CAPULIN, NARANJA,\\n', 'PERA, KIWI']\n",
            "['LIMON', 'AGUACATE', 'FRESA', 'MANZANA', '', 'CIRUELA', 'CAPULIN', 'NARANJA', '', 'PERA', 'KIWI']\n"
          ],
          "name": "stdout"
        }
      ]
    },
    {
      "cell_type": "markdown",
      "metadata": {
        "id": "lEOKujTOlEAz"
      },
      "source": [
        ""
      ]
    },
    {
      "cell_type": "code",
      "metadata": {
        "id": "FvRU5tk5iGpn"
      },
      "source": [
        "#POO con python\n",
        "-Clases\n",
        "-Objetos\n",
        "-Atributos\n",
        "-Metodos\n",
        "-Método constructor\n",
        "-Encapsulamientiento (publico y privado)\n",
        "\n",
        "Declarar clase en python se usa la palabra reservada Class"
      ],
      "execution_count": null,
      "outputs": []
    },
    {
      "cell_type": "code",
      "metadata": {
        "id": "YbNpq0ODlv01",
        "outputId": "793a533d-4ab9-4e09-8ba3-c4a682f3e903",
        "colab": {
          "base_uri": "https://localhost:8080/",
          "height": 72
        }
      },
      "source": [
        "\n",
        "class Persona:\n",
        "  def __init__( self , edd , est ): #Declaración y encapsulamiento __ dos guiones bajos, onjetos se declaran son self\n",
        "      self.__edad = edd\n",
        "      self.__estatura = est\n",
        "      print(\"Hola desde el constructor\")\n",
        "\n",
        "  def to_string( self ):\n",
        "     print(f\"Edad={self.__edad}, est={self.__estatura}\")\n",
        "\n",
        "per1 = Persona(23,1.178)\n",
        "per1.to_string()  \n",
        "per1.estatura = 10.4\n",
        "per1.to_string()\n",
        "\n",
        "\n",
        "\n"
      ],
      "execution_count": 21,
      "outputs": [
        {
          "output_type": "stream",
          "text": [
            "Hola desde el constructor\n",
            "Edad=23, est=1.178\n",
            "Edad=23, est=1.178\n"
          ],
          "name": "stdout"
        }
      ]
    }
  ]
}