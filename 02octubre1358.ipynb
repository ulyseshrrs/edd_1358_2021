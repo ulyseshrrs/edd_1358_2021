{
  "nbformat": 4,
  "nbformat_minor": 0,
  "metadata": {
    "colab": {
      "name": "02octubre1358.ipynb",
      "provenance": [],
      "authorship_tag": "ABX9TyN3y74cspkZdxmKHW1Th8VB",
      "include_colab_link": true
    },
    "kernelspec": {
      "name": "python3",
      "display_name": "Python 3"
    }
  },
  "cells": [
    {
      "cell_type": "markdown",
      "metadata": {
        "id": "view-in-github",
        "colab_type": "text"
      },
      "source": [
        "<a href=\"https://colab.research.google.com/github/ulyseshrrs/edd_1358_2021/blob/master/02octubre1358.ipynb\" target=\"_parent\"><img src=\"https://colab.research.google.com/assets/colab-badge.svg\" alt=\"Open In Colab\"/></a>"
      ]
    },
    {
      "cell_type": "code",
      "metadata": {
        "id": "wi2-IW6P3I4H"
      },
      "source": [
        "# lsita de dato\n",
        "-string str\n",
        "-entero int\n",
        "-Numero flotate float \n",
        "-Logico bool\n",
        "-Numero complejo complex\n",
        "-Listas list\n",
        "-Tuplas tuple\n",
        "-diccioarios dict\n",
        "-conjuntos set"
      ],
      "execution_count": null,
      "outputs": []
    },
    {
      "cell_type": "markdown",
      "metadata": {
        "id": "1vjjgOkM32bF"
      },
      "source": [
        ""
      ]
    },
    {
      "cell_type": "code",
      "metadata": {
        "id": "256E7Rp3320B",
        "outputId": "9b8d2e30-5632-4093-a0bb-be09c882a0be",
        "colab": {
          "base_uri": "https://localhost:8080/",
          "height": 146
        }
      },
      "source": [
        "#string puede emplear \"\" , '' o \"\"\" \"\"\"\n",
        "universidad =\" universidad nacional autonoma de mexico\"\n",
        "print (universidad)\n",
        "#cuando el string es una sola palabra se usa '' > buena practica\n",
        "carrera ='ico'\n",
        "area = \"software\"\n",
        "division = 'división de las ciencias de fisicomatematas'\n",
        "print(carrera,area)\n",
        "print (division)\n",
        "#\"\"\" cuando el string incluye varios renglones\n",
        "\n",
        "frase = \"\"\"\n",
        "si\n",
        "funsiona, no\n",
        "lo arregles!!!\n",
        "\"\"\"\n",
        "print(frase)"
      ],
      "execution_count": 4,
      "outputs": [
        {
          "output_type": "stream",
          "text": [
            " universidad nacional autonoma de mexico\n",
            "ico software\n",
            "división de las ciencias de fisicomatematas\n",
            "\n",
            "si\n",
            "funsiona, no lo arregles!!!\n",
            "\n"
          ],
          "name": "stdout"
        }
      ]
    },
    {
      "cell_type": "code",
      "metadata": {
        "id": "DZDRHEVd50H_",
        "outputId": "27ddffbd-4085-4b37-c512-a09244c5880d",
        "colab": {
          "base_uri": "https://localhost:8080/",
          "height": 219
        }
      },
      "source": [
        "print(universidad.upper() )\n",
        "print(universidad)\n",
        "print(universidad.title())\n",
        "#eliminar espacios a la derecha e izquierda\n",
        "universidad = universidad.strip()\n",
        "print(universidad)\n",
        "lista = universidad.split(\" \")\n",
        "print (lista)\n",
        "nueva=\"\"\n",
        "for l in lista:\n",
        "  if len(l) > 0:\n",
        "    nueva += l + \" \"\n",
        "print(nueva)\n",
        "numeros =\"1,2,34,56,100\"\n",
        "separados = numeros.split(\",\")\n",
        "print(separados)\n",
        "numeros_int= []\n",
        "for num in separados:\n",
        "  numeros_int.append(int(num) )\n",
        "\n",
        "print(numeros_int)\n",
        "print(nueva)\n",
        "print(nueva.index(\"na\"))\n",
        "(nueva.replace(' ','-'))\n",
        "print(nueva)\n",
        "  "
      ],
      "execution_count": 24,
      "outputs": [
        {
          "output_type": "stream",
          "text": [
            "UNIVERSIDAD NACIONAL AUTONOMA DE MEXICO\n",
            "universidad nacional autonoma de mexico\n",
            "Universidad Nacional Autonoma De Mexico\n",
            "universidad nacional autonoma de mexico\n",
            "['universidad', 'nacional', 'autonoma', 'de', 'mexico']\n",
            "universidad nacional autonoma de mexico \n",
            "['1', '2', '34', '56', '100']\n",
            "[1, 2, 34, 56, 100]\n",
            "universidad nacional autonoma de mexico \n",
            "12\n",
            "universidad nacional autonoma de mexico \n"
          ],
          "name": "stdout"
        }
      ]
    },
    {
      "cell_type": "markdown",
      "metadata": {
        "id": "-vNYqWcd_tW-"
      },
      "source": [
        "#Slicing\n",
        "sintaxis [inicio :stop:incremento]\n",
        "\n"
      ]
    },
    {
      "cell_type": "code",
      "metadata": {
        "id": "3Ayqy8PCAHuA",
        "outputId": "be4e2cea-10c9-43dc-ce61-24786be9a441",
        "colab": {
          "base_uri": "https://localhost:8080/",
          "height": 164
        }
      },
      "source": [
        "print (nueva [0])\n",
        "nueva = nueva.strip()\n",
        "print (nueva[ len(nueva)-1]) #indexado negativo\n",
        "print (nueva[-2])\n",
        "\n",
        "#slicing\n",
        "print (nueva)\n",
        "print(nueva[ 12: 20: 1])\n",
        "print(nueva[-6 : :1])\n",
        "#mexico al revez con slacing\n",
        "print(nueva[-1 :-7 :-1])\n",
        "\n",
        "#valores por defecto [0 : long de la lista :1]\n",
        "\n",
        "print(nueva[::2])"
      ],
      "execution_count": 30,
      "outputs": [
        {
          "output_type": "stream",
          "text": [
            "u\n",
            "o\n",
            "c\n",
            "universidad nacional autonoma de mexico\n",
            "nacional\n",
            "mexico\n",
            "ocixem\n",
            "uiesddncoa uooad eio\n"
          ],
          "name": "stdout"
        }
      ]
    },
    {
      "cell_type": "markdown",
      "metadata": {
        "id": "iBZFEZJdD-oN"
      },
      "source": [
        "#bool\n",
        "Acepta solo dos valores\n",
        "True bool(1)\n",
        "\n",
        "Falsa bool(0)"
      ]
    },
    {
      "cell_type": "code",
      "metadata": {
        "id": "28fN9XTSER4c",
        "outputId": "9e5213ed-383e-4c3a-c0ab-256881449c38",
        "colab": {
          "base_uri": "https://localhost:8080/",
          "height": 90
        }
      },
      "source": [
        "print (bool(0))\n",
        "print(bool(423423))\n",
        "flag = 0\n",
        "print (bool(flag))\n",
        "print(True)"
      ],
      "execution_count": 31,
      "outputs": [
        {
          "output_type": "stream",
          "text": [
            "False\n",
            "True\n",
            "False\n",
            "True\n"
          ],
          "name": "stdout"
        }
      ]
    },
    {
      "cell_type": "markdown",
      "metadata": {
        "id": "tfk70aAJE588"
      },
      "source": [
        "# comentario\n",
        "\n",
        "para un comentario de una linea se usa #\n",
        "para un comentario de multiple linea, equivalente a"
      ]
    },
    {
      "cell_type": "code",
      "metadata": {
        "id": "u2VwSYT5FfSm"
      },
      "source": [
        "#este es un comentario de linea simple\n",
        "\n",
        "\"\"\"\n",
        "Este \n",
        "es un\n",
        "comentario de\n",
        "multiple\n",
        "linea\n",
        "\"\"\""
      ],
      "execution_count": null,
      "outputs": []
    },
    {
      "cell_type": "markdown",
      "metadata": {
        "id": "Xfme7CxCFsuh"
      },
      "source": [
        "#funsion Print\n",
        "hay 4 formas de usar print\n",
        "1. con comas(,)\n",
        "2. con signo + (+)\n",
        "3. con la funcion format() de la clase string\n",
        "4. con el operador f\"\""
      ]
    },
    {
      "cell_type": "code",
      "metadata": {
        "id": "lmA8hIHHGQNU",
        "outputId": "14d584a0-8f72-4f54-eeb1-0027a3cc9e26",
        "colab": {
          "base_uri": "https://localhost:8080/",
          "height": 90
        }
      },
      "source": [
        "# con comas\n",
        "cantidad = 2\n",
        "precio_chetos = 8\n",
        "precio_fanta = 12\n",
        "print(cantidad,precio_chetos,precio_fanta)\n",
        "\n",
        "# con signo solo opera con str\n",
        "print (\"hola\"+\"mundo\")\n",
        "print(cantidad + precio_chetos + precio_fanta)\n",
        "print(str(cantidad) + str(precio_chetos) + str(precio_fanta))\n"
      ],
      "execution_count": 33,
      "outputs": [
        {
          "output_type": "stream",
          "text": [
            "2 8 12\n",
            "holamundo\n",
            "22\n",
            "2812\n"
          ],
          "name": "stdout"
        }
      ]
    }
  ]
}