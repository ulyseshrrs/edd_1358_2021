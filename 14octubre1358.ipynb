{
  "nbformat": 4,
  "nbformat_minor": 0,
  "metadata": {
    "colab": {
      "name": "14deagosto13.ipynb",
      "provenance": [],
      "toc_visible": true,
      "authorship_tag": "ABX9TyNsBEyV/YyVGl1fTaaiVgRd",
      "include_colab_link": true
    },
    "kernelspec": {
      "name": "python3",
      "display_name": "Python 3"
    }
  },
  "cells": [
    {
      "cell_type": "markdown",
      "metadata": {
        "id": "view-in-github",
        "colab_type": "text"
      },
      "source": [
        "<a href=\"https://colab.research.google.com/github/ulyseshrrs/edd_1358_2021/blob/master/14octubre1358.ipynb\" target=\"_parent\"><img src=\"https://colab.research.google.com/assets/colab-badge.svg\" alt=\"Open In Colab\"/></a>"
      ]
    },
    {
      "cell_type": "code",
      "metadata": {
        "id": "TMdZuDaksRvM"
      },
      "source": [
        "def claculo ( *elem ):\n",
        "    print (elem)\n",
        "    x = elem[0] + (elem[1]) / elem [2] )\n",
        "    return x\n",
        "    print(calculos(5,9,3,8,8,8,8))"
      ],
      "execution_count": null,
      "outputs": []
    },
    {
      "cell_type": "code",
      "metadata": {
        "id": "7VGrkBhOsVHS"
      },
      "source": [
        "def claculo ( **elem ):\n",
        "    print (elem)\n",
        "    x = elem['a'] + (elem['b'] /elem ['c'])\n",
        "    return x\n",
        "print(calculo(a=5,b=9,c=3))"
      ],
      "execution_count": null,
      "outputs": []
    },
    {
      "cell_type": "markdown",
      "metadata": {
        "id": "ZqQ3OuK22n32"
      },
      "source": [
        "# archivos\n",
        "-abrirlos\n",
        "   -un str con la ruta el archivos\n",
        "   -dos caracateres:1 ->modo de apertura(r,w) y el 2 formato(texto o     BBinario)\n",
        "  •leerlos\n",
        "   •modificados"
      ]
    },
    {
      "cell_type": "code",
      "metadata": {
        "id": "38CtU-JV3Zmf"
      },
      "source": [
        "archivo = open ('ejemplo.txt','wt')\n",
        "\n",
        "archivo.write(\"Hola mundo de at\")\n",
        "\n",
        "archivo.close()"
      ],
      "execution_count": 5,
      "outputs": []
    },
    {
      "cell_type": "code",
      "metadata": {
        "id": "6f2_W-bv40lV"
      },
      "source": [
        "!(cat ejemplo.txt> otra.txt)"
      ],
      "execution_count": 7,
      "outputs": []
    }
  ]
}