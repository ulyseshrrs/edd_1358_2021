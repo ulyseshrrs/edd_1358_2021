{
  "nbformat": 4,
  "nbformat_minor": 0,
  "metadata": {
    "colab": {
      "name": "30octubre_1358.ipynb",
      "provenance": [],
      "authorship_tag": "ABX9TyNQDas41031zPOW0Zhee/PT",
      "include_colab_link": true
    },
    "kernelspec": {
      "name": "python3",
      "display_name": "Python 3"
    }
  },
  "cells": [
    {
      "cell_type": "markdown",
      "metadata": {
        "id": "view-in-github",
        "colab_type": "text"
      },
      "source": [
        "<a href=\"https://colab.research.google.com/github/ulyseshrrs/edd_1358_2021/blob/master/30octubre_1358.ipynb\" target=\"_parent\"><img src=\"https://colab.research.google.com/assets/colab-badge.svg\" alt=\"Open In Colab\"/></a>"
      ]
    },
    {
      "cell_type": "code",
      "metadata": {
        "id": "6v1XOXmZqJis",
        "outputId": "71227175-415f-49b7-a880-8031c59d466d",
        "colab": {
          "base_uri": "https://localhost:8080/"
        }
      },
      "source": [
        "\"\"\"\n",
        "Array\n",
        "\"\"\"\n",
        "class Array:\n",
        "    def __init__( self , tam ):\n",
        "        self.__datos = [ 0 for x in range(tam)]\n",
        "    \n",
        "    def get_item( self ,index ):\n",
        "        dato = 0\n",
        "        if index >= 0 and index < len(self.__datos):\n",
        "            dato = self.__datos[index]\n",
        "        else:\n",
        "            print(\"Error en el indice\") \n",
        "        return dato\n",
        "\n",
        "    def set_item( self  , dato , index  ):\n",
        "        if index >= 0 and index < len(self.__datos):\n",
        "            self.__datos[index] = dato\n",
        "        else:\n",
        "            print(\"Error en el indice\")\n",
        "\n",
        "    def get_length(self):\n",
        "\t    return len(self.__datos)\n",
        "    \n",
        "    def clear( self , dato ):\n",
        "        self.__datos = [dato for x in range(self.__tam)]\n",
        "\n",
        "    def __iter__( self ):\n",
        "        return _getIterator( self.__datos )\n",
        "\n",
        "\n",
        "class _getIterator:\n",
        "    def __init__( self , arreglo ):\n",
        "        self.__arreglo = arreglo\n",
        "        self.__indice_actual = 0\n",
        "\n",
        "    def __iter__( self ):\n",
        "        return self\n",
        "\n",
        "    def __next__( self  ):\n",
        "        if self.__indice_actual < len(self.__arreglo):\n",
        "            dato = self.__arreglo[self.__indice_actual]\n",
        "            self.__indice_actual +=1\n",
        "            return dato\n",
        "        else:\n",
        "            raise StopIteration\n",
        "\n",
        "\n",
        "mi_arreglo = Array(10)\n",
        "print(mi_arreglo.get_item( 20 ))\n",
        "mi_arreglo.set_item( 2345 , 3 )\n",
        "print(mi_arreglo.get_item( 3 ))\n",
        "\n",
        "print(\"--------\")\n",
        "for x in mi_arreglo:\n",
        "    print(x)\n",
        "\n",
        "\n",
        "\n",
        "               \n",
        "\n",
        "         \n",
        "        "
      ],
      "execution_count": 12,
      "outputs": [
        {
          "output_type": "stream",
          "text": [
            "Error en el indice\n",
            "0\n",
            "2345\n",
            "--------\n",
            "0\n",
            "0\n",
            "0\n",
            "2345\n",
            "0\n",
            "0\n",
            "0\n",
            "0\n",
            "0\n",
            "0\n"
          ],
          "name": "stdout"
        }
      ]
    },
    {
      "cell_type": "code",
      "metadata": {
        "id": "sgooxwkMToW8"
      },
      "source": [
        "class Empleado:\n",
        "    def __init__( self , num , nom , pat , mat , he ,sb ,anio ):\n",
        "        self.__num_trabajador = num\n",
        "        self.__nombres = nom\n",
        "        self.__paterno = pat\n",
        "        self.__materno = mat\n",
        "        self.__horas_extra = he\n",
        "        self.__sueldo_base = sb\n",
        "        self.__anio_ingreso = anio\n",
        "    \n",
        "    # get y set\n",
        "\n",
        "    # meétodos de uso gral : calculos  \n",
        "\n",
        "    # to_string()"
      ],
      "execution_count": 13,
      "outputs": []
    },
    {
      "cell_type": "code",
      "metadata": {
        "id": "QcqNA7zzWBRh",
        "outputId": "0e045ab6-a2f7-426a-abc2-caf598840234",
        "colab": {
          "base_uri": "https://localhost:8080/"
        }
      },
      "source": [
        "\"\"\"\n",
        "ADT Sueldos --> encapsula datos de nómina \n",
        "\n",
        "cargar_datos ( ruta_archivo ) --> lee el archivo y lo carga e un ADT Array\n",
        "calcular_sueldos (  )\n",
        "reportar_mayor_ant( )\n",
        "reportar_menor_ant( )\n",
        "\"\"\"\n",
        "class Sueldos:\n",
        "    def __init__( self ):\n",
        "        self.__data = None\n",
        "    \n",
        "    def cargar_datos( self , ruta_archivo ):\n",
        "        archivo = open( ruta_archivo , \"rt\" ,encoding='latin1' )\n",
        "        lineas = archivo.readlines()\n",
        "        archivo.close()\n",
        "        self.__data = Array( len(lineas) -1 )\n",
        "        # Su tarea\n",
        "        for linea in lineas:\n",
        "            print(linea)\n",
        "            # separar campos y casting de algunos campos\n",
        "            # crear un objeto Empleado\n",
        "            # cargar ese objeto a self.__data.set_item()\n",
        "\n",
        "ejemplo = Sueldos()\n",
        "ejemplo.cargar_datos('junio.dat')"
      ],
      "execution_count": 14,
      "outputs": [
        {
          "output_type": "stream",
          "text": [
            "numero de trabajador, nombres, paterno, materno, horas extra, sueldo base, aÃ±o de ingreso\n",
            "\n",
            "2345,CARLOS,PEREZ,CASTILLO,0,9850,2017\n",
            "\n",
            "5754,ANGEL,GOMEZ,GARRIDO,1,9850,2020\n",
            "\n",
            "5345,JESUS,MARTIN,SANTOS,2,9850,2016\n",
            "\n",
            "3267,DAVID,JIMENEZ,LOZANO,2,9850,2017\n",
            "\n",
            "8765,PEDRO,RUIZ,GUERRERO,2,9850,2017\n",
            "\n",
            "5454,DANIEL,HERNANDEZ,CANO,3,9850,2018\n",
            "\n",
            "3456,ALEJANDRO,DIAZ,PRIETO,2,9850,2018\n",
            "\n",
            "3445,MARIA,MORENO,MENDEZ,1,9850,2018\n",
            "\n",
            "9088,ALBERTO,MUOZ,CRUZ,1,9850,2017\n",
            "\n",
            "8877,RAFAEL,ALVAREZ,FLORES,2,9850,2017\n",
            "\n",
            "6767,FERNANDO,ROMERO,HERRERA,4,9850,2019\n",
            "\n",
            "5654,PABLO,ALONSO,GALLEGO,1,9850,2019\n",
            "\n",
            "4323,JORGE,GUTIERREZ,MARQUEZ,2,9850,2020\n",
            "\n",
            "2232,RAMON,NAVARRO,LEON,1,9850,2016\n"
          ],
          "name": "stdout"
        }
      ]
    }
  ]
}