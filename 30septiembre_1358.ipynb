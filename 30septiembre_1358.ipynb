{
  "nbformat": 4,
  "nbformat_minor": 0,
  "metadata": {
    "colab": {
      "name": "30septiembre_1358.ipynb",
      "provenance": [],
      "authorship_tag": "ABX9TyMw73xksl3XAp2jQvLwRbuM",
      "include_colab_link": true
    },
    "kernelspec": {
      "name": "python3",
      "display_name": "Python 3"
    }
  },
  "cells": [
    {
      "cell_type": "markdown",
      "metadata": {
        "id": "view-in-github",
        "colab_type": "text"
      },
      "source": [
        "<a href=\"https://colab.research.google.com/github/ulyseshrrs/edd_1358_2021/blob/master/30septiembre_1358.ipynb\" target=\"_parent\"><img src=\"https://colab.research.google.com/assets/colab-badge.svg\" alt=\"Open In Colab\"/></a>"
      ]
    },
    {
      "cell_type": "markdown",
      "metadata": {
        "id": "EoaNP7cLlUfg"
      },
      "source": [
        "#Fundamentos Python 3\n",
        "###Tipo de datos basicos\n",
        "edad = 13\n",
        "nombre = \"José\"\n",
        "estatura = 1.67\n",
        "tiene_ine = True\n",
        "\n",
        "###Compuestos\n",
        "\n",
        "###Listas\n",
        "\n",
        "####Son mutables, se accede a los elementos via indice, los elementos puede ser de diferente tipo\n",
        "lista_ejemplo = [\"manzana\",1.57,True, [\"rojo\",\"azul\"] ]\n",
        "\n",
        "###Tuplas\n",
        "\n",
        "####Son inmutables se accede a los elementos via indice, los elementos pueden ser de diferente tipo\n",
        "tupla_ejemplo = (\"root\",\"123.322.45.4\",\"1234dios\")\n",
        "\n",
        "###Diccionarios\n",
        "\n",
        "####Son equivalentes a los JSON de JS\n",
        "\n",
        "###Setas\n",
        "\n",
        "####Son datos agrupados\n"
      ]
    },
    {
      "cell_type": "markdown",
      "metadata": {
        "id": "XOwgi97PNgI3"
      },
      "source": [
        ""
      ]
    },
    {
      "cell_type": "code",
      "metadata": {
        "id": "nfZ4Xjy9Rk2o",
        "outputId": "b4c182a7-1ed4-412a-8389-eea81a1f7a11",
        "colab": {
          "base_uri": "https://localhost:8080/",
          "height": 237
        }
      },
      "source": [
        "listas_ejemplos = [\"Manzanas\",1.57,True,[\"rojo\",\"azul\"]]\n",
        "print(listas_ejemplos[1])\n",
        "print(listas_ejemplos[3])\n",
        "print(listas_ejemplos[3][1])\n",
        "listas_ejemplos [0] =\"Manzana\"\n",
        "print(listas_ejemplos)\n",
        "#Agregar un elemento al final\n",
        "listas_ejemplos.append(\"iphone\")\n",
        "print(listas_ejemplos)\n",
        "#sacar el ultimo elemento\n",
        "valor = listas_ejemplos.pop()\n",
        "print(valor)\n",
        "print(listas_ejemplos)\n",
        "#Documentación del tipo de dato listas dir() y help()\n",
        "print(\"-------\")\n",
        "listas_ejemplos.insert(1,'Huawei')\n",
        "print(listas_ejemplos)\n",
        "conteo = listas_ejemplos.count(True)\n",
        "print(conteo)\n",
        "\n",
        "\n",
        "colores = ['rosa','fiusca','negro']\n",
        "listas_ejemplos.append(colores)\n",
        "print(listas_ejemplos)\n",
        "#Con extends funsionan dos listas\n",
        "listas_ejemplos.extend(colores)\n",
        "print(listas_ejemplos)"
      ],
      "execution_count": 14,
      "outputs": [
        {
          "output_type": "stream",
          "text": [
            "1.57\n",
            "['rojo', 'azul']\n",
            "azul\n",
            "['Manzana', 1.57, True, ['rojo', 'azul']]\n",
            "['Manzana', 1.57, True, ['rojo', 'azul'], 'iphone']\n",
            "iphone\n",
            "['Manzana', 1.57, True, ['rojo', 'azul']]\n",
            "-------\n",
            "['Manzana', 'Huawei', 1.57, True, ['rojo', 'azul']]\n",
            "1\n",
            "['Manzana', 'Huawei', 1.57, True, ['rojo', 'azul'], ['rosa', 'fiusca', 'negro']]\n",
            "['Manzana', 'Huawei', 1.57, True, ['rojo', 'azul'], ['rosa', 'fiusca', 'negro'], 'rosa', 'fiusca', 'negro']\n"
          ],
          "name": "stdout"
        }
      ]
    }
  ]
}